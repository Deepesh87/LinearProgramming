{
 "cells": [
  {
   "cell_type": "code",
   "execution_count": 51,
   "metadata": {
    "collapsed": false
   },
   "outputs": [],
   "source": [
    "import pandas as pd\n",
    "import numpy as np\n",
    "from pulp import *"
   ]
  },
  {
   "cell_type": "code",
   "execution_count": 52,
   "metadata": {
    "collapsed": true
   },
   "outputs": [],
   "source": [
    "facility=[\"R\",\"H\",\"M\",\"W\"]\n",
    "facility_numbers=[173,638,169,202]\n",
    "Demand=[150,188,547,159]\n",
    "Demand_locations=['Wurzburg','Duren','Remscheid','Nurnberg']"
   ]
  },
  {
   "cell_type": "code",
   "execution_count": 53,
   "metadata": {
    "collapsed": false
   },
   "outputs": [],
   "source": [
    "values=np.array([[76,63,77,64],\n",
    "                [96,86,90,78],\n",
    "                [80,63,70,57],\n",
    "                [66,88,70,98]])"
   ]
  },
  {
   "cell_type": "code",
   "execution_count": 54,
   "metadata": {
    "collapsed": false
   },
   "outputs": [
    {
     "name": "stdout",
     "output_type": "stream",
     "text": [
      "   Wurzburg  Duren  Remscheid  Nurnberg\n",
      "R        76     63         77        64\n",
      "H        96     86         90        78\n",
      "M        80     63         70        57\n",
      "W        66     88         70        98\n"
     ]
    }
   ],
   "source": [
    "df=pd.DataFrame(index=facility,data=values,columns=[i for i in Demand_locations])\n",
    "print df"
   ]
  },
  {
   "cell_type": "code",
   "execution_count": 55,
   "metadata": {
    "collapsed": false
   },
   "outputs": [
    {
     "name": "stdout",
     "output_type": "stream",
     "text": [
      "150\n",
      "{'H': {'Duren': 86, 'Wurzburg': 96, 'Remscheid': 90, 'Nurnberg': 78}, 'R': {'Duren': 63, 'Wurzburg': 76, 'Remscheid': 77, 'Nurnberg': 64}, 'M': {'Duren': 63, 'Wurzburg': 80, 'Remscheid': 70, 'Nurnberg': 57}, 'W': {'Duren': 88, 'Wurzburg': 66, 'Remscheid': 70, 'Nurnberg': 98}}\n"
     ]
    }
   ],
   "source": [
    "locations_demand=dict(zip(Demand_locations,Demand))\n",
    "supply_values=dict(zip(facility,facility_numbers))\n",
    "print locations_demand['Wurzburg']\n",
    "fare_in_order=[df.ix['R'],df.ix['H'],df.ix['M'],df.ix['W']]\n",
    "fare_combos=makeDict([facility,Demand_locations],fare_in_order)\n",
    "print fare_combos"
   ]
  },
  {
   "cell_type": "code",
   "execution_count": 49,
   "metadata": {
    "collapsed": false
   },
   "outputs": [
    {
     "data": {
      "text/plain": [
       "'Optimal'"
      ]
     },
     "execution_count": 49,
     "metadata": {},
     "output_type": "execute_result"
    }
   ],
   "source": [
    "#formulate the problem\n",
    "prob =LpProblem(\"Cake\",LpMinimize)\n",
    "\n",
    "#define the decision variables\n",
    "x=LpVariable.dicts(\"dec_vars\",(facility,Demand_locations),lowBound=0,upBound=None)\n",
    "#this creates decisionvariables in the form \n",
    "#x['H']['Wurzburg'] so using indexes all dec variables can be accessed\n",
    "\n",
    "#define the objective function\n",
    "prob +=lpSum(x[i][j]*fare_combos[i][j] for i in facility for j in Demand_locations)\n",
    "\n",
    "#constraints\n",
    "#demand constraint\n",
    "for i in Demand_locations:\n",
    "    prob+=lpSum(x[j][i] for j in facility)>=locations_demand[i]\n",
    "    \n",
    "#supply constraint\n",
    "for i in facility:\n",
    "    prob+=lpSum(x[i])<=supply_values[i]\n",
    "\n",
    "    \n",
    "# solve the problem\n",
    "status = prob.solve()\n",
    "LpStatus[status]"
   ]
  },
  {
   "cell_type": "code",
   "execution_count": 50,
   "metadata": {
    "collapsed": false
   },
   "outputs": [
    {
     "name": "stdout",
     "output_type": "stream",
     "text": [
      "79102.0\n",
      "\n",
      "\n",
      "Cake:\n",
      "MINIMIZE\n",
      "86*dec_vars_H_Duren + 78*dec_vars_H_Nurnberg + 90*dec_vars_H_Remscheid + 96*dec_vars_H_Wurzburg + 63*dec_vars_M_Duren + 57*dec_vars_M_Nurnberg + 70*dec_vars_M_Remscheid + 80*dec_vars_M_Wurzburg + 63*dec_vars_R_Duren + 64*dec_vars_R_Nurnberg + 77*dec_vars_R_Remscheid + 76*dec_vars_R_Wurzburg + 88*dec_vars_W_Duren + 98*dec_vars_W_Nurnberg + 70*dec_vars_W_Remscheid + 66*dec_vars_W_Wurzburg + 0\n",
      "SUBJECT TO\n",
      "_C1: dec_vars_H_Wurzburg + dec_vars_M_Wurzburg + dec_vars_R_Wurzburg\n",
      " + dec_vars_W_Wurzburg >= 150\n",
      "\n",
      "_C2: dec_vars_H_Duren + dec_vars_M_Duren + dec_vars_R_Duren + dec_vars_W_Duren\n",
      " >= 188\n",
      "\n",
      "_C3: dec_vars_H_Remscheid + dec_vars_M_Remscheid + dec_vars_R_Remscheid\n",
      " + dec_vars_W_Remscheid >= 547\n",
      "\n",
      "_C4: dec_vars_H_Nurnberg + dec_vars_M_Nurnberg + dec_vars_R_Nurnberg\n",
      " + dec_vars_W_Nurnberg >= 159\n",
      "\n",
      "_C5: dec_vars_R_Duren + dec_vars_R_Nurnberg + dec_vars_R_Remscheid\n",
      " + dec_vars_R_Wurzburg <= 173\n",
      "\n",
      "_C6: dec_vars_H_Duren + dec_vars_H_Nurnberg + dec_vars_H_Remscheid\n",
      " + dec_vars_H_Wurzburg <= 638\n",
      "\n",
      "_C7: dec_vars_M_Duren + dec_vars_M_Nurnberg + dec_vars_M_Remscheid\n",
      " + dec_vars_M_Wurzburg <= 169\n",
      "\n",
      "_C8: dec_vars_W_Duren + dec_vars_W_Nurnberg + dec_vars_W_Remscheid\n",
      " + dec_vars_W_Wurzburg <= 202\n",
      "\n",
      "VARIABLES\n",
      "dec_vars_H_Duren Continuous\n",
      "dec_vars_H_Nurnberg Continuous\n",
      "dec_vars_H_Remscheid Continuous\n",
      "dec_vars_H_Wurzburg Continuous\n",
      "dec_vars_M_Duren Continuous\n",
      "dec_vars_M_Nurnberg Continuous\n",
      "dec_vars_M_Remscheid Continuous\n",
      "dec_vars_M_Wurzburg Continuous\n",
      "dec_vars_R_Duren Continuous\n",
      "dec_vars_R_Nurnberg Continuous\n",
      "dec_vars_R_Remscheid Continuous\n",
      "dec_vars_R_Wurzburg Continuous\n",
      "dec_vars_W_Duren Continuous\n",
      "dec_vars_W_Nurnberg Continuous\n",
      "dec_vars_W_Remscheid Continuous\n",
      "dec_vars_W_Wurzburg Continuous\n",
      "\n",
      "('dec_vars_H_Duren', '=', 0.0)\n",
      "('dec_vars_H_Nurnberg', '=', 5.0)\n",
      "('dec_vars_H_Remscheid', '=', 495.0)\n",
      "('dec_vars_H_Wurzburg', '=', 0.0)\n",
      "('dec_vars_M_Duren', '=', 15.0)\n",
      "('dec_vars_M_Nurnberg', '=', 154.0)\n",
      "('dec_vars_M_Remscheid', '=', 0.0)\n",
      "('dec_vars_M_Wurzburg', '=', 0.0)\n",
      "('dec_vars_R_Duren', '=', 173.0)\n",
      "('dec_vars_R_Nurnberg', '=', 0.0)\n",
      "('dec_vars_R_Remscheid', '=', 0.0)\n",
      "('dec_vars_R_Wurzburg', '=', 0.0)\n",
      "('dec_vars_W_Duren', '=', 0.0)\n",
      "('dec_vars_W_Nurnberg', '=', 0.0)\n",
      "('dec_vars_W_Remscheid', '=', 52.0)\n",
      "('dec_vars_W_Wurzburg', '=', 150.0)\n"
     ]
    }
   ],
   "source": [
    "# print the results\n",
    "print (value(prob.objective))\n",
    "print ('\\n')\n",
    "\n",
    "print(prob)\n",
    "for v in prob.variables():\n",
    "    print(v.name, \"=\", v.varValue)"
   ]
  }
 ],
 "metadata": {
  "kernelspec": {
   "display_name": "Python [Root]",
   "language": "python",
   "name": "Python [Root]"
  },
  "language_info": {
   "codemirror_mode": {
    "name": "ipython",
    "version": 2
   },
   "file_extension": ".py",
   "mimetype": "text/x-python",
   "name": "python",
   "nbconvert_exporter": "python",
   "pygments_lexer": "ipython2",
   "version": "2.7.12"
  }
 },
 "nbformat": 4,
 "nbformat_minor": 0
}
