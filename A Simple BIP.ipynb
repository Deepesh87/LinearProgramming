{
 "cells": [
  {
   "cell_type": "markdown",
   "metadata": {},
   "source": [
    "# A simple BIP"
   ]
  },
  {
   "cell_type": "code",
   "execution_count": 25,
   "metadata": {
    "collapsed": false
   },
   "outputs": [
    {
     "name": "stdout",
     "output_type": "stream",
     "text": [
      "{'1': 3, '3': 2, '2': 8, '5': 10, '4': 2}\n"
     ]
    }
   ],
   "source": [
    "#load libraries\n",
    "import numpy as np\n",
    "from pulp import *\n",
    "import pandas as pd\n",
    "boxes=['1','2','3','4','5']\n",
    "choclates=[3,8,2,2,10]\n",
    "Cost=[1,5,5,6,1]\n",
    "#rephrase the input for the problem\n",
    "choc_number=dict(zip(boxes,choclates))\n",
    "print choc_number\n",
    "\n",
    "cost_box=dict(zip(boxes,Cost))"
   ]
  },
  {
   "cell_type": "code",
   "execution_count": 29,
   "metadata": {
    "collapsed": false
   },
   "outputs": [
    {
     "data": {
      "text/plain": [
       "'Optimal'"
      ]
     },
     "execution_count": 29,
     "metadata": {},
     "output_type": "execute_result"
    }
   ],
   "source": [
    "#define the problem\n",
    "prob=LpProblem(\"BIP\",LpMaximize)\n",
    "\n",
    "#dec_variables\n",
    "x=LpVariable.dicts(\"dec_var\",(boxes),cat=\"Binary\")\n",
    "\n",
    "#objective function\n",
    "prob +=lpSum([x[i]*choc_number[i] for i in boxes])\n",
    "\n",
    "#constraint 1\n",
    "prob +=lpSum([x[i]*cost_box[i] for i in boxes])<=7\n",
    "\n",
    "#constraint 2\n",
    "for i in boxes:\n",
    "    prob+=x[i]<=1\n",
    "    \n",
    "\n",
    "# solve the problem\n",
    "status = prob.solve()\n",
    "LpStatus[status]"
   ]
  },
  {
   "cell_type": "code",
   "execution_count": 30,
   "metadata": {
    "collapsed": false
   },
   "outputs": [
    {
     "name": "stdout",
     "output_type": "stream",
     "text": [
      "21.0\n",
      "\n",
      "\n",
      "BIP:\n",
      "MAXIMIZE\n",
      "3*dec_var_1 + 8*dec_var_2 + 2*dec_var_3 + 2*dec_var_4 + 10*dec_var_5 + 0\n",
      "SUBJECT TO\n",
      "_C1: dec_var_1 + 5 dec_var_2 + 5 dec_var_3 + 6 dec_var_4 + dec_var_5 <= 7\n",
      "\n",
      "_C2: dec_var_1 <= 1\n",
      "\n",
      "_C3: dec_var_2 <= 1\n",
      "\n",
      "_C4: dec_var_3 <= 1\n",
      "\n",
      "_C5: dec_var_4 <= 1\n",
      "\n",
      "_C6: dec_var_5 <= 1\n",
      "\n",
      "VARIABLES\n",
      "0 <= dec_var_1 <= 1 Integer\n",
      "0 <= dec_var_2 <= 1 Integer\n",
      "0 <= dec_var_3 <= 1 Integer\n",
      "0 <= dec_var_4 <= 1 Integer\n",
      "0 <= dec_var_5 <= 1 Integer\n",
      "\n",
      "('dec_var_1', '=', 1.0)\n",
      "('dec_var_2', '=', 1.0)\n",
      "('dec_var_3', '=', 0.0)\n",
      "('dec_var_4', '=', 0.0)\n",
      "('dec_var_5', '=', 1.0)\n"
     ]
    }
   ],
   "source": [
    "# print the results\n",
    "print (value(prob.objective))\n",
    "print ('\\n')\n",
    "\n",
    "print(prob)\n",
    "for v in prob.variables():\n",
    "    print(v.name, \"=\", v.varValue)"
   ]
  },
  {
   "cell_type": "code",
   "execution_count": null,
   "metadata": {
    "collapsed": true
   },
   "outputs": [],
   "source": []
  }
 ],
 "metadata": {
  "kernelspec": {
   "display_name": "Python [Root]",
   "language": "python",
   "name": "Python [Root]"
  },
  "language_info": {
   "codemirror_mode": {
    "name": "ipython",
    "version": 2
   },
   "file_extension": ".py",
   "mimetype": "text/x-python",
   "name": "python",
   "nbconvert_exporter": "python",
   "pygments_lexer": "ipython2",
   "version": "2.7.12"
  }
 },
 "nbformat": 4,
 "nbformat_minor": 0
}
