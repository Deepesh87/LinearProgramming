{
 "cells": [
  {
   "cell_type": "markdown",
   "metadata": {},
   "source": [
    "# Problem 1"
   ]
  },
  {
   "cell_type": "code",
   "execution_count": 1,
   "metadata": {
    "collapsed": true
   },
   "outputs": [],
   "source": [
    "#load libraries\n",
    "import numpy as np\n",
    "from pulp import *\n",
    "import pandas as pd"
   ]
  },
  {
   "cell_type": "code",
   "execution_count": 29,
   "metadata": {
    "collapsed": false
   },
   "outputs": [
    {
     "data": {
      "text/plain": [
       "'Optimal'"
      ]
     },
     "execution_count": 29,
     "metadata": {},
     "output_type": "execute_result"
    }
   ],
   "source": [
    "#define  the problem\n",
    "prob=LpProblem(\"one\",LpMaximize)\n",
    "\n",
    "#define the dec variables\n",
    "x=LpVariable(\"x\",0,None,LpInteger)\n",
    "y=LpVariable(\"y\",0,None,LpInteger)\n",
    "\n",
    "# The objective function is added to 'prob'\n",
    "prob += 1*x + 3*y\n",
    "\n",
    "#cnstraint\n",
    "prob +=3*x-1*y<=8\n",
    "prob +=5*x+10*y<=85\n",
    "prob +=x>=0\n",
    "prob +=y>=0\n",
    "\n",
    "# solve the problem\n",
    "status = prob.solve()\n",
    "LpStatus[status]"
   ]
  },
  {
   "cell_type": "code",
   "execution_count": 30,
   "metadata": {
    "collapsed": false
   },
   "outputs": [
    {
     "name": "stdout",
     "output_type": "stream",
     "text": [
      "25.0\n",
      "\n",
      "\n",
      "one:\n",
      "MAXIMIZE\n",
      "1*x + 3*y + 0\n",
      "SUBJECT TO\n",
      "_C1: 3 x - y <= 8\n",
      "\n",
      "_C2: 5 x + 10 y <= 85\n",
      "\n",
      "_C3: x >= 0\n",
      "\n",
      "_C4: y >= 0\n",
      "\n",
      "VARIABLES\n",
      "0 <= x Integer\n",
      "0 <= y Integer\n",
      "\n",
      "('x', '=', 1.0)\n",
      "('y', '=', 8.0)\n"
     ]
    }
   ],
   "source": [
    "print (value(prob.objective))\n",
    "print ('\\n')\n",
    "\n",
    "print(prob)\n",
    "for v in prob.variables():\n",
    "    print(v.name, \"=\", v.varValue)"
   ]
  },
  {
   "cell_type": "markdown",
   "metadata": {},
   "source": [
    "# Problem 2"
   ]
  },
  {
   "cell_type": "code",
   "execution_count": 31,
   "metadata": {
    "collapsed": false
   },
   "outputs": [
    {
     "data": {
      "text/plain": [
       "'Optimal'"
      ]
     },
     "execution_count": 31,
     "metadata": {},
     "output_type": "execute_result"
    }
   ],
   "source": [
    "#define  the problem\n",
    "prob2=LpProblem(\"one\",LpMaximize)\n",
    "\n",
    "#define the dec variables\n",
    "x=LpVariable(\"x\",0,None,LpInteger)\n",
    "y=LpVariable(\"y\",0,None,LpInteger)\n",
    "\n",
    "# The objective function is added to 'prob2'\n",
    "prob2 += 2*x + 2*y\n",
    "\n",
    "#cnstraint\n",
    "prob2 +=-3*x+1*y<=3\n",
    "prob2 +=-1*x+2*y>=-2\n",
    "prob2 +=2*x<=3\n",
    "prob2 +=x>=0\n",
    "prob2 +=y>=0\n",
    "\n",
    "# solve the problem\n",
    "status = prob2.solve()\n",
    "LpStatus[status]"
   ]
  },
  {
   "cell_type": "code",
   "execution_count": 32,
   "metadata": {
    "collapsed": false
   },
   "outputs": [
    {
     "name": "stdout",
     "output_type": "stream",
     "text": [
      "14.0\n",
      "\n",
      "\n",
      "one:\n",
      "MAXIMIZE\n",
      "2*x + 2*y + 0\n",
      "SUBJECT TO\n",
      "_C1: - 3 x + y <= 3\n",
      "\n",
      "_C2: - x + 2 y >= -2\n",
      "\n",
      "_C3: 2 x <= 3\n",
      "\n",
      "_C4: x >= 0\n",
      "\n",
      "_C5: y >= 0\n",
      "\n",
      "VARIABLES\n",
      "0 <= x Integer\n",
      "0 <= y Integer\n",
      "\n",
      "('x', '=', 1.0)\n",
      "('y', '=', 6.0)\n"
     ]
    }
   ],
   "source": [
    "print (value(prob2.objective))\n",
    "print ('\\n')\n",
    "\n",
    "print(prob2)\n",
    "for v in prob2.variables():\n",
    "    print(v.name, \"=\", v.varValue)"
   ]
  },
  {
   "cell_type": "code",
   "execution_count": null,
   "metadata": {
    "collapsed": true
   },
   "outputs": [],
   "source": []
  }
 ],
 "metadata": {
  "kernelspec": {
   "display_name": "Python [Root]",
   "language": "python",
   "name": "Python [Root]"
  },
  "language_info": {
   "codemirror_mode": {
    "name": "ipython",
    "version": 2
   },
   "file_extension": ".py",
   "mimetype": "text/x-python",
   "name": "python",
   "nbconvert_exporter": "python",
   "pygments_lexer": "ipython2",
   "version": "2.7.12"
  }
 },
 "nbformat": 4,
 "nbformat_minor": 0
}
