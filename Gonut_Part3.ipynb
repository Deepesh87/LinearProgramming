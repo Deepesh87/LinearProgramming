{
 "cells": [
  {
   "cell_type": "code",
   "execution_count": 25,
   "metadata": {
    "collapsed": true
   },
   "outputs": [],
   "source": [
    "#load libraries\n",
    "import numpy as np\n",
    "from pulp import *\n",
    "import pandas as pd"
   ]
  },
  {
   "cell_type": "code",
   "execution_count": 26,
   "metadata": {
    "collapsed": false
   },
   "outputs": [],
   "source": [
    "#question inputs\n",
    "Products=['Ginko','Kola']\n",
    "Locations=['Ethiopia','Tanzania','Nigeria']#plants\n",
    "Cost_Ginko=[21,22.50,23] #in the 3 plants as above\n",
    "Cost_Kola=[22.50,24.50,25.50]#in the 3 plants as above\n",
    "Capacity=[425,400,750]#in the 3 plants as above\n",
    "Min_Capacity=[100,250,600]\n",
    "Demand=[550,650]#of the 2 drinks   \n",
    "Fixed_Cost=[1500,2000,3000]"
   ]
  },
  {
   "cell_type": "code",
   "execution_count": 27,
   "metadata": {
    "collapsed": false
   },
   "outputs": [
    {
     "name": "stdout",
     "output_type": "stream",
     "text": [
      "{'Ginko': 550, 'Kola': 650}\n",
      "{'Ethiopia': 425, 'Tanzania': 400, 'Nigeria': 750}\n",
      "{'Ethiopia': 1500, 'Tanzania': 2000, 'Nigeria': 3000}\n",
      "21\n",
      "{'Ethiopia': 100, 'Tanzania': 250, 'Nigeria': 600}\n"
     ]
    }
   ],
   "source": [
    "#lets rephrase the inputs to suit our LP modelling\n",
    "Product_Demands=dict(zip(Products,Demand)) \n",
    "#using the format---> dict(zip(keys, values)) for a list keys & values\n",
    "print Product_Demands\n",
    "#similarly for capacity constraints\n",
    "Location_Capacity=dict(zip(Locations,Capacity))\n",
    "print Location_Capacity\n",
    "\n",
    "Location_Fixed_Cost=dict(zip(Locations,Fixed_Cost))\n",
    "print Location_Fixed_Cost\n",
    "\n",
    "#now we have to get the Costs for each Product and at each Location\n",
    "#in such a way that we can index it easily.\n",
    "adummy=[Cost_Ginko,Cost_Kola]\n",
    "#below line gives first index as Products and sec index as Locations\n",
    "all_combos = makeDict([Products,Locations],adummy,0)#this shud work\n",
    "#for example\n",
    "print all_combos['Ginko']['Ethiopia']\n",
    "\n",
    "#for the Minimum Capacity\n",
    "Min_Cap=dict(zip(Locations,Min_Capacity))\n",
    "print Min_Cap"
   ]
  },
  {
   "cell_type": "code",
   "execution_count": 28,
   "metadata": {
    "collapsed": false
   },
   "outputs": [
    {
     "data": {
      "text/plain": [
       "'Optimal'"
      ]
     },
     "execution_count": 28,
     "metadata": {},
     "output_type": "execute_result"
    }
   ],
   "source": [
    "#define  the problem\n",
    "prob=LpProblem(\"nuts\",LpMinimize)\n",
    "\n",
    "#define the dec variables\n",
    "x=LpVariable.dicts(\"dec_vars\",(Products,Locations),lowBound=0,upBound=None)\n",
    "#x can be accessed by x['Products'] or by x['Products']['Locations']\n",
    "#example x[\"Kola\"] gives the Kola at all 3 locations\n",
    "#x[\"Kola\"]['Nigeria'] gives Kola only at Nigeria Location\n",
    "\n",
    "#Factory ON or OFF Decision variable\n",
    "status=LpVariable.dicts(\"factory_status\",(Locations),cat=\"Binary\")\n",
    "\n",
    "# The objective function is added to 'prob'\n",
    "prob += lpSum([x[w][b]*all_combos[w][b] for w in Products for b in Locations])+lpSum([status[i]*Location_Fixed_Cost[i] for i in Locations])\n",
    "\n",
    "\n",
    "#define the constraints\n",
    "#demand cnstraint\n",
    "for i in Products:\n",
    "    prob +=lpSum(x[i])>=Product_Demands[i]\n",
    "\n",
    "    \n",
    "#MAX capacity constraint\n",
    "for i in Locations:\n",
    "    prob +=lpSum(x[j][i] for j in Products)<=Location_Capacity[i]\n",
    "\n",
    "#MIN capacity constraint\n",
    "for i in Locations:\n",
    "    prob +=lpSum(x[k][i] for k in Products)>=[status[i]*Min_Cap[i]] \n",
    "    \n",
    "\n",
    "#link binary dec_variables to the actual dec_Variables\n",
    "for i in Locations:\n",
    "    prob+=lpSum(x[j][i] for j in Products)<=1000*status[i]    \n",
    "    \n",
    "# solve the problem\n",
    "status = prob.solve()\n",
    "LpStatus[status]"
   ]
  },
  {
   "cell_type": "code",
   "execution_count": 29,
   "metadata": {
    "collapsed": false,
    "scrolled": true
   },
   "outputs": [
    {
     "name": "stdout",
     "output_type": "stream",
     "text": [
      "34425.0\n",
      "\n",
      "\n",
      "nuts:\n",
      "MINIMIZE\n",
      "21*dec_vars_Ginko_Ethiopia + 23*dec_vars_Ginko_Nigeria + 22.5*dec_vars_Ginko_Tanzania + 22.5*dec_vars_Kola_Ethiopia + 25.5*dec_vars_Kola_Nigeria + 24.5*dec_vars_Kola_Tanzania + 1500*factory_status_Ethiopia + 3000*factory_status_Nigeria + 2000*factory_status_Tanzania + 0.0\n",
      "SUBJECT TO\n",
      "_C1: dec_vars_Ginko_Ethiopia + dec_vars_Ginko_Nigeria\n",
      " + dec_vars_Ginko_Tanzania >= 550\n",
      "\n",
      "_C2: dec_vars_Kola_Ethiopia + dec_vars_Kola_Nigeria + dec_vars_Kola_Tanzania\n",
      " >= 650\n",
      "\n",
      "_C3: dec_vars_Ginko_Ethiopia + dec_vars_Kola_Ethiopia <= 425\n",
      "\n",
      "_C4: dec_vars_Ginko_Tanzania + dec_vars_Kola_Tanzania <= 400\n",
      "\n",
      "_C5: dec_vars_Ginko_Nigeria + dec_vars_Kola_Nigeria <= 750\n",
      "\n",
      "_C6: dec_vars_Ginko_Ethiopia + dec_vars_Kola_Ethiopia\n",
      " - 100 factory_status_Ethiopia >= 0\n",
      "\n",
      "_C7: dec_vars_Ginko_Tanzania + dec_vars_Kola_Tanzania\n",
      " - 250 factory_status_Tanzania >= 0\n",
      "\n",
      "_C8: dec_vars_Ginko_Nigeria + dec_vars_Kola_Nigeria\n",
      " - 600 factory_status_Nigeria >= 0\n",
      "\n",
      "_C9: dec_vars_Ginko_Ethiopia + dec_vars_Kola_Ethiopia\n",
      " - 1000 factory_status_Ethiopia <= 0\n",
      "\n",
      "_C10: dec_vars_Ginko_Tanzania + dec_vars_Kola_Tanzania\n",
      " - 1000 factory_status_Tanzania <= 0\n",
      "\n",
      "_C11: dec_vars_Ginko_Nigeria + dec_vars_Kola_Nigeria\n",
      " - 1000 factory_status_Nigeria <= 0\n",
      "\n",
      "VARIABLES\n",
      "dec_vars_Ginko_Ethiopia Continuous\n",
      "dec_vars_Ginko_Nigeria Continuous\n",
      "dec_vars_Ginko_Tanzania Continuous\n",
      "dec_vars_Kola_Ethiopia Continuous\n",
      "dec_vars_Kola_Nigeria Continuous\n",
      "dec_vars_Kola_Tanzania Continuous\n",
      "0 <= factory_status_Ethiopia <= 1 Integer\n",
      "0 <= factory_status_Nigeria <= 1 Integer\n",
      "0 <= factory_status_Tanzania <= 1 Integer\n",
      "\n",
      "('dec_vars_Ginko_Ethiopia', '=', 0.0)\n",
      "('dec_vars_Ginko_Nigeria', '=', 550.0)\n",
      "('dec_vars_Ginko_Tanzania', '=', 0.0)\n",
      "('dec_vars_Kola_Ethiopia', '=', 350.0)\n",
      "('dec_vars_Kola_Nigeria', '=', 50.0)\n",
      "('dec_vars_Kola_Tanzania', '=', 250.0)\n",
      "('factory_status_Ethiopia', '=', 1.0)\n",
      "('factory_status_Nigeria', '=', 1.0)\n",
      "('factory_status_Tanzania', '=', 1.0)\n"
     ]
    }
   ],
   "source": [
    "# print the results\n",
    "print (value(prob.objective))\n",
    "print ('\\n')\n",
    "\n",
    "print(prob)\n",
    "for v in prob.variables():\n",
    "    print(v.name, \"=\", v.varValue)"
   ]
  },
  {
   "cell_type": "code",
   "execution_count": null,
   "metadata": {
    "collapsed": true
   },
   "outputs": [],
   "source": []
  }
 ],
 "metadata": {
  "kernelspec": {
   "display_name": "Python [Root]",
   "language": "python",
   "name": "Python [Root]"
  },
  "language_info": {
   "codemirror_mode": {
    "name": "ipython",
    "version": 2
   },
   "file_extension": ".py",
   "mimetype": "text/x-python",
   "name": "python",
   "nbconvert_exporter": "python",
   "pygments_lexer": "ipython2",
   "version": "2.7.12"
  }
 },
 "nbformat": 4,
 "nbformat_minor": 0
}
