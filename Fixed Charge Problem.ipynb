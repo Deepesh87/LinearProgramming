{
 "cells": [
  {
   "cell_type": "code",
   "execution_count": 3,
   "metadata": {
    "collapsed": true
   },
   "outputs": [],
   "source": [
    "from pulp import *"
   ]
  },
  {
   "cell_type": "code",
   "execution_count": 1,
   "metadata": {
    "collapsed": true
   },
   "outputs": [],
   "source": [
    "frames=['Homer','Turner','Sargent']\n",
    "Labor_hours=[3,2,6]# for each unit of frame\n",
    "Glass=[4,3,4]\n",
    "limits=[150,160] #labor and glass\n",
    "rent=[200,150,100]\n",
    "Variable_Cost=[6,4,8] #per unit of Homer, Turner & Sargent\n",
    "Selling_Price=[12,8,15]"
   ]
  },
  {
   "cell_type": "code",
   "execution_count": 12,
   "metadata": {
    "collapsed": false
   },
   "outputs": [],
   "source": [
    "#prepare the variables\n",
    "SP_frames=dict(zip(frames,Selling_Price))\n",
    "\n",
    "VC_frames=dict(zip(frames,Variable_Cost))\n",
    "\n",
    "rent_frames_machines=dict(zip(frames,rent))\n",
    "\n",
    "frames_labor_hours=dict(zip(frames,Labor_hours))\n",
    "\n",
    "frames_glass_amount=dict(zip(frames,Glass))"
   ]
  },
  {
   "cell_type": "code",
   "execution_count": 18,
   "metadata": {
    "collapsed": true
   },
   "outputs": [],
   "source": [
    "#defie the problem\n",
    "prob= LpProblem(\"Fixed_Charge_Problem\",LpMaximize)\n",
    "\n",
    "#define decision variables\n",
    "x=LpVariable.dicts(\"dec_var\",frames,0,upBound=None)\n",
    "y=LpVariable.dicts(\"dec_var2\",frames,cat=\"Binary\")\n",
    "\n",
    "\n",
    "#define the objective function\n",
    "prob+=lpSum(x[i]*SP_frames[i]- (x[i]*VC_frames[i])-(y[i]*rent_frames_machines[i]) for i in frames)\n",
    "\n",
    "#connect Y and X\n",
    "for i in frames:\n",
    "    prob+=x[i]<=1000*y[i]\n",
    "\n",
    "#define the constraints\n",
    "#max labor hours per week is 150\n",
    "prob+=lpSum(x[i]*frames_labor_hours[i] for i in frames)<=150\n",
    "\n",
    "#max glass amount per week is 150\n",
    "prob+=lpSum(x[i]*frames_glass_amount[i] for i in frames)<=160"
   ]
  },
  {
   "cell_type": "code",
   "execution_count": 19,
   "metadata": {
    "collapsed": false
   },
   "outputs": [
    {
     "name": "stdout",
     "output_type": "stream",
     "text": [
      "75.0\n",
      "\n",
      "\n",
      "Fixed_Charge_Problem:\n",
      "MAXIMIZE\n",
      "-200*dec_var2_Homer + -100*dec_var2_Sargent + -150*dec_var2_Turner + 6*dec_var_Homer + 7*dec_var_Sargent + 4*dec_var_Turner + 0\n",
      "SUBJECT TO\n",
      "_C1: - 1000 dec_var2_Homer + dec_var_Homer <= 0\n",
      "\n",
      "_C2: - 1000 dec_var2_Turner + dec_var_Turner <= 0\n",
      "\n",
      "_C3: - 1000 dec_var2_Sargent + dec_var_Sargent <= 0\n",
      "\n",
      "_C4: 3 dec_var_Homer + 6 dec_var_Sargent + 2 dec_var_Turner <= 150\n",
      "\n",
      "_C5: 4 dec_var_Homer + 4 dec_var_Sargent + 3 dec_var_Turner <= 160\n",
      "\n",
      "VARIABLES\n",
      "0 <= dec_var2_Homer <= 1 Integer\n",
      "0 <= dec_var2_Sargent <= 1 Integer\n",
      "0 <= dec_var2_Turner <= 1 Integer\n",
      "dec_var_Homer Continuous\n",
      "dec_var_Sargent Continuous\n",
      "dec_var_Turner Continuous\n",
      "\n",
      "('dec_var2_Homer', '=', 0.0)\n",
      "('dec_var2_Sargent', '=', 1.0)\n",
      "('dec_var2_Turner', '=', 0.0)\n",
      "('dec_var_Homer', '=', 0.0)\n",
      "('dec_var_Sargent', '=', 25.0)\n",
      "('dec_var_Turner', '=', 0.0)\n"
     ]
    }
   ],
   "source": [
    "# solve the problem\n",
    "status = prob.solve()\n",
    "LpStatus[status]\n",
    "\n",
    "# print the results\n",
    "print (value(prob.objective))\n",
    "print ('\\n')\n",
    "\n",
    "print(prob)\n",
    "for v in prob.variables():\n",
    "    print(v.name, \"=\", v.varValue)"
   ]
  }
 ],
 "metadata": {
  "kernelspec": {
   "display_name": "Python [Root]",
   "language": "python",
   "name": "Python [Root]"
  },
  "language_info": {
   "codemirror_mode": {
    "name": "ipython",
    "version": 2
   },
   "file_extension": ".py",
   "mimetype": "text/x-python",
   "name": "python",
   "nbconvert_exporter": "python",
   "pygments_lexer": "ipython2",
   "version": "2.7.12"
  }
 },
 "nbformat": 4,
 "nbformat_minor": 0
}
