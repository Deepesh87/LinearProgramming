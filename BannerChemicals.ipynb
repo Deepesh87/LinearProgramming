{
 "cells": [
  {
   "cell_type": "code",
   "execution_count": 135,
   "metadata": {
    "collapsed": true
   },
   "outputs": [],
   "source": [
    "import numpy as np\n",
    "from pulp import *#library for lienar programming in Python"
   ]
  },
  {
   "cell_type": "code",
   "execution_count": 136,
   "metadata": {
    "collapsed": true
   },
   "outputs": [],
   "source": [
    "#Problem in brief\n",
    "#solution for Banner Chemicals\n",
    "#Total capacity of the plant=110\n",
    "#The plant produces HIGH and SUPREME grade\n",
    "#Profit from High and Supreme is 80 & 200 repectivley.\n",
    "#Ingredient A & B are used to make both High and Supreme\n",
    "#3 and 1 is the qty of A required to procude High & Supreme resp.\n",
    "#2 and 3 is the qty of B required to produce High & Supreme resp.\n",
    "# total of 300 & 280 is available of A and B"
   ]
  },
  {
   "cell_type": "markdown",
   "metadata": {},
   "source": [
    "# simple way to Solve---Full Notation"
   ]
  },
  {
   "cell_type": "code",
   "execution_count": 137,
   "metadata": {
    "collapsed": true
   },
   "outputs": [],
   "source": [
    "#formulating the given parameters\n",
    "Capacity=110\n",
    "Products=['High','Supreme']\n",
    "Profits=[80,200]\n",
    "Ingredients=['A','B']\n",
    "High=[3,1]\n",
    "Supreme=[2,3]\n",
    "Ingredients_Capacity=[300,280]"
   ]
  },
  {
   "cell_type": "code",
   "execution_count": 138,
   "metadata": {
    "collapsed": false
   },
   "outputs": [],
   "source": [
    "#pulp.pulpTestAll()--> PULP_CBC_CMD passed"
   ]
  },
  {
   "cell_type": "code",
   "execution_count": 139,
   "metadata": {
    "collapsed": false
   },
   "outputs": [
    {
     "name": "stdout",
     "output_type": "stream",
     "text": [
      "25.0\n",
      "85.0\n",
      "19000.0\n",
      "\n",
      "\n",
      "problem:\n",
      "MAXIMIZE\n",
      "80*x1 + 200*x2 + 0\n",
      "SUBJECT TO\n",
      "_C1: x1 + x2 <= 110\n",
      "\n",
      "_C2: 3 x1 + 2 x2 <= 300\n",
      "\n",
      "_C3: x1 + 3 x2 <= 280\n",
      "\n",
      "VARIABLES\n",
      "x1 Continuous\n",
      "x2 Continuous\n",
      "\n"
     ]
    },
    {
     "data": {
      "text/plain": [
       "'Optimal'"
      ]
     },
     "execution_count": 139,
     "metadata": {},
     "output_type": "execute_result"
    }
   ],
   "source": [
    "# defines the problem\n",
    "prob = LpProblem(\"problem\", LpMaximize)\n",
    "\n",
    "# declare your variables\n",
    "x1 = LpVariable(\"x1\",lowBound=0,upBound=None)# 0<= x1\n",
    "x2 = LpVariable(\"x2\",lowBound=0,upBound=None) # 0<= x2\n",
    "\n",
    "# defines the objective function to maximize\n",
    "prob += (x1*Profits[0]+x2*Profits[1]) # max(x1*80+x2*200)\n",
    "\n",
    "# defines the constraints\n",
    "prob += x1+x2<= 110   #(x1+x2<=110) capacity constraint\n",
    "prob += 3*x1+2*x2<=300  # 3*x1+2*x2<=300 # Ingredient A constraint\n",
    "prob += 1*x1+3*x2<=280  #1*x1+3*x2<=280 #Ingredient B constraint\n",
    "\n",
    "# solve the problem\n",
    "status = prob.solve()\n",
    "LpStatus[status]\n",
    "\n",
    "# print the results\n",
    "print (x1.varValue)\n",
    "print (x2.varValue)\n",
    "print (value(prob.objective))\n",
    "print ('\\n')\n",
    "print(prob)\n",
    "LpStatus[prob.status]#to verify the results"
   ]
  },
  {
   "cell_type": "markdown",
   "metadata": {},
   "source": [
    "# using Sigma Notation"
   ]
  },
  {
   "cell_type": "code",
   "execution_count": 140,
   "metadata": {
    "collapsed": true
   },
   "outputs": [],
   "source": [
    "#now let us attemt the same by using sigma notation in the codes \n",
    "#this way we can scale up the problem easily"
   ]
  },
  {
   "cell_type": "code",
   "execution_count": 141,
   "metadata": {
    "collapsed": true
   },
   "outputs": [],
   "source": [
    "#formulating the given parameters\n",
    "Capacity=110\n",
    "Products=['High','Supreme']\n",
    "Profits=[80,200]\n",
    "Ingredients=['A','B']\n",
    "High=[3,1]\n",
    "Supreme=[2,3]\n",
    "Ingredients_Capacity=[300,280]"
   ]
  },
  {
   "cell_type": "code",
   "execution_count": 207,
   "metadata": {
    "collapsed": false
   },
   "outputs": [
    {
     "data": {
      "text/plain": [
       "'Optimal'"
      ]
     },
     "execution_count": 207,
     "metadata": {},
     "output_type": "execute_result"
    }
   ],
   "source": [
    "# defines the problem\n",
    "prob2 = LpProblem(\"problem\", LpMaximize)\n",
    "\n",
    "# declare your variables\n",
    "x=LpVariable.dicts(\"decvars\",Products,lowBound=0,upBound=None)#decision variable\n",
    "#is created for each index of Products\n",
    "\n",
    "# defines the objective function to maximize\n",
    "prob2+= lpSum([Profits[i]*x.values()[i] for i in range(len(Products))])\n",
    "# max(x1*80+x2*200)\n",
    "\n",
    "# defines the constraints\n",
    "prob2 += lpSum(x.values())<= 110   #(x1+x2<=110) capacity constraint\n",
    "\n",
    "prob2 +=lpSum(x.values()[0]*High[0]+x.values()[1]*Supreme[0])<=Ingredients_Capacity[0]\n",
    "#3*x1+2*x2<=300 #Ingredient A constraint\n",
    "prob2 +=lpSum(x.values()[0]*High[1]+x.values()[1]*Supreme[1])<=Ingredients_Capacity[1]\n",
    "#1*x1+3*x2<=280 #Ingredient B constraint\n",
    "\n",
    "\n",
    "# solve the problem\n",
    "status = prob2.solve()\n",
    "LpStatus[status]"
   ]
  },
  {
   "cell_type": "code",
   "execution_count": 208,
   "metadata": {
    "collapsed": false
   },
   "outputs": [
    {
     "name": "stdout",
     "output_type": "stream",
     "text": [
      "19000.0\n",
      "\n",
      "\n",
      "25.0\n",
      "85.0\n",
      "\n",
      "\n",
      "problem:\n",
      "MAXIMIZE\n",
      "80*decvars_High + 200*decvars_Supreme + 0\n",
      "SUBJECT TO\n",
      "_C1: decvars_High + decvars_Supreme <= 110\n",
      "\n",
      "_C2: 3 decvars_High + 2 decvars_Supreme <= 300\n",
      "\n",
      "_C3: decvars_High + 3 decvars_Supreme <= 280\n",
      "\n",
      "VARIABLES\n",
      "decvars_High Continuous\n",
      "decvars_Supreme Continuous\n",
      "\n"
     ]
    }
   ],
   "source": [
    "# print the results\n",
    "#print value(x.values())\n",
    "print (value(prob2.objective))\n",
    "print ('\\n')\n",
    "for i in range(2):\n",
    "    print x.values()[i].varValue\n",
    "print ('\\n')\n",
    "print(prob2)"
   ]
  },
  {
   "cell_type": "code",
   "execution_count": 184,
   "metadata": {
    "collapsed": false
   },
   "outputs": [
    {
     "name": "stdout",
     "output_type": "stream",
     "text": [
      "{'High': decvars_High, 'Supreme': decvars_Supreme}\n"
     ]
    }
   ],
   "source": [
    "p1=np.array(x)\n",
    "print p1\n",
    "p3=[2,3]"
   ]
  },
  {
   "cell_type": "code",
   "execution_count": 183,
   "metadata": {
    "collapsed": false
   },
   "outputs": [
    {
     "name": "stdout",
     "output_type": "stream",
     "text": [
      "[[3 1]\n",
      " [2 3]]\n"
     ]
    }
   ],
   "source": [
    "p2=np.array([High,Supreme])\n",
    "print p2"
   ]
  },
  {
   "cell_type": "code",
   "execution_count": 195,
   "metadata": {
    "collapsed": false
   },
   "outputs": [
    {
     "data": {
      "text/plain": [
       "array([False, False], dtype=bool)"
      ]
     },
     "execution_count": 195,
     "metadata": {},
     "output_type": "execute_result"
    }
   ],
   "source": [
    "np.dot(p2,p3)<=np.array([1,2])"
   ]
  },
  {
   "cell_type": "code",
   "execution_count": 196,
   "metadata": {
    "collapsed": false
   },
   "outputs": [
    {
     "data": {
      "text/plain": [
       "array([1, 2])"
      ]
     },
     "execution_count": 196,
     "metadata": {},
     "output_type": "execute_result"
    }
   ],
   "source": [
    "np.array([1,2])"
   ]
  }
 ],
 "metadata": {
  "kernelspec": {
   "display_name": "Python [Root]",
   "language": "python",
   "name": "Python [Root]"
  },
  "language_info": {
   "codemirror_mode": {
    "name": "ipython",
    "version": 2
   },
   "file_extension": ".py",
   "mimetype": "text/x-python",
   "name": "python",
   "nbconvert_exporter": "python",
   "pygments_lexer": "ipython2",
   "version": "2.7.12"
  }
 },
 "nbformat": 4,
 "nbformat_minor": 0
}
