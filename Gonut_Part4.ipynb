{
 "cells": [
  {
   "cell_type": "markdown",
   "metadata": {},
   "source": [
    "# GoNuts 4"
   ]
  },
  {
   "cell_type": "code",
   "execution_count": 1,
   "metadata": {
    "collapsed": true
   },
   "outputs": [],
   "source": [
    "#load libraries\n",
    "import numpy as np\n",
    "from pulp import *\n",
    "import pandas as pd"
   ]
  },
  {
   "cell_type": "code",
   "execution_count": 2,
   "metadata": {
    "collapsed": false
   },
   "outputs": [],
   "source": [
    "#question inputs\n",
    "Products=['Ginko','Kola']\n",
    "Locations=['Ethiopia','Tanzania','Nigeria']#plants\n",
    "Cost_Ginko=[21,22.50,23] #in the 3 plants as above\n",
    "Cost_Kola=[22.50,24.50,25.50]#in the 3 plants as above\n",
    "Capacity=[425,400,750]#in the 3 plants as above\n",
    "Demand=[550,450]#of the 2 drinks   "
   ]
  },
  {
   "cell_type": "code",
   "execution_count": 6,
   "metadata": {
    "collapsed": false
   },
   "outputs": [
    {
     "name": "stdout",
     "output_type": "stream",
     "text": [
      "{'Ginko': 550, 'Kola': 450}\n",
      "{'Ethiopia': 425, 'Tanzania': 400, 'Nigeria': 750}\n",
      "[[21, 22.5, 23], [22.5, 24.5, 25.5]]\n"
     ]
    }
   ],
   "source": [
    "#lets rephrase the inputs to suit our LP modelling\n",
    "Product_Demands=dict(zip(Products,Demand)) \n",
    "#using the format---> dict(zip(keys, values)) for a list keys & values\n",
    "print Product_Demands\n",
    "#similarly for capacity constraints\n",
    "Location_Capacity=dict(zip(Locations,Capacity))\n",
    "print Location_Capacity\n",
    "\n",
    "#now we have to get the Costs for each Product and at each Location\n",
    "#in such a way that we can index it easily.\n",
    "adummy=[Cost_Ginko,Cost_Kola]\n",
    "#below line gives first index as Products and sec index as Locations\n",
    "all_combos = makeDict([Products,Locations],adummy)#this shud work\n",
    "#for example\n",
    "print adummy"
   ]
  },
  {
   "cell_type": "code",
   "execution_count": 26,
   "metadata": {
    "collapsed": false
   },
   "outputs": [
    {
     "data": {
      "text/plain": [
       "'Optimal'"
      ]
     },
     "execution_count": 26,
     "metadata": {},
     "output_type": "execute_result"
    }
   ],
   "source": [
    "#define  the problem\n",
    "prob=LpProblem(\"nuts\",LpMinimize)\n",
    "\n",
    "#define the dec variables\n",
    "x=LpVariable.dicts(\"dec_vars\",(Products,Locations),lowBound=0,upBound=None)\n",
    "#x can be accessed by x['Products'] or by x['Products']['Locations']\n",
    "#example x[\"Kola\"] gives the Kola at all 3 locations\n",
    "#x[\"Kola\"]['Nigeria'] gives Kola only at Nigeria Location\n",
    "\n",
    "#Factory ON or OFF Decision variable\n",
    "status=LpVariable.dicts(\"factory_status\",(Locations),cat=\"Binary\")\n",
    "\n",
    "# The objective function is added to 'prob'\n",
    "prob += lpSum([x[w][b]*all_combos[w][b] for w in Products for b in Locations])\n",
    "\n",
    "#define the constraints\n",
    "#demand cnstraint\n",
    "for i in Products:\n",
    "    prob +=lpSum(x[i])>=Product_Demands[i]\n",
    " \n",
    "# MAXcapacity constraint\n",
    "for i in Locations:\n",
    "    prob +=lpSum(x[j][i] for j in Products)<=Location_Capacity[i]\n",
    "\n",
    "#link binary dec_variables to the actual dec_Variables\n",
    "for i in Locations:\n",
    "    prob+=lpSum(x[j][i] for j in Products)<=[status[i]*Location_Capacity[i]]  \n",
    "\n",
    "#only 2 plants can open\n",
    "prob+=lpSum(status)<=2\n",
    "    \n",
    "# solve the problem\n",
    "status = prob.solve()\n",
    "LpStatus[status]"
   ]
  },
  {
   "cell_type": "code",
   "execution_count": 27,
   "metadata": {
    "collapsed": false,
    "scrolled": true
   },
   "outputs": [
    {
     "name": "stdout",
     "output_type": "stream",
     "text": [
      "22850.0\n",
      "\n",
      "\n",
      "nuts:\n",
      "MINIMIZE\n",
      "21*dec_vars_Ginko_Ethiopia + 23*dec_vars_Ginko_Nigeria + 22.5*dec_vars_Ginko_Tanzania + 22.5*dec_vars_Kola_Ethiopia + 25.5*dec_vars_Kola_Nigeria + 24.5*dec_vars_Kola_Tanzania + 0.0\n",
      "SUBJECT TO\n",
      "_C1: dec_vars_Ginko_Ethiopia + dec_vars_Ginko_Nigeria\n",
      " + dec_vars_Ginko_Tanzania >= 550\n",
      "\n",
      "_C2: dec_vars_Kola_Ethiopia + dec_vars_Kola_Nigeria + dec_vars_Kola_Tanzania\n",
      " >= 450\n",
      "\n",
      "_C3: dec_vars_Ginko_Ethiopia + dec_vars_Kola_Ethiopia <= 425\n",
      "\n",
      "_C4: dec_vars_Ginko_Tanzania + dec_vars_Kola_Tanzania <= 400\n",
      "\n",
      "_C5: dec_vars_Ginko_Nigeria + dec_vars_Kola_Nigeria <= 750\n",
      "\n",
      "_C6: dec_vars_Ginko_Ethiopia + dec_vars_Kola_Ethiopia\n",
      " - 425 factory_status_Ethiopia <= 0\n",
      "\n",
      "_C7: dec_vars_Ginko_Tanzania + dec_vars_Kola_Tanzania\n",
      " - 400 factory_status_Tanzania <= 0\n",
      "\n",
      "_C8: dec_vars_Ginko_Nigeria + dec_vars_Kola_Nigeria\n",
      " - 750 factory_status_Nigeria <= 0\n",
      "\n",
      "_C9: factory_status_Ethiopia + factory_status_Nigeria\n",
      " + factory_status_Tanzania <= 2\n",
      "\n",
      "VARIABLES\n",
      "dec_vars_Ginko_Ethiopia Continuous\n",
      "dec_vars_Ginko_Nigeria Continuous\n",
      "dec_vars_Ginko_Tanzania Continuous\n",
      "dec_vars_Kola_Ethiopia Continuous\n",
      "dec_vars_Kola_Nigeria Continuous\n",
      "dec_vars_Kola_Tanzania Continuous\n",
      "0 <= factory_status_Ethiopia <= 1 Integer\n",
      "0 <= factory_status_Nigeria <= 1 Integer\n",
      "0 <= factory_status_Tanzania <= 1 Integer\n",
      "\n",
      "('dec_vars_Ginko_Ethiopia', '=', 0.0)\n",
      "('dec_vars_Ginko_Nigeria', '=', 550.0)\n",
      "('dec_vars_Ginko_Tanzania', '=', 0.0)\n",
      "('dec_vars_Kola_Ethiopia', '=', 425.0)\n",
      "('dec_vars_Kola_Nigeria', '=', 25.0)\n",
      "('dec_vars_Kola_Tanzania', '=', 0.0)\n",
      "('factory_status_Ethiopia', '=', 1.0)\n",
      "('factory_status_Nigeria', '=', 1.0)\n",
      "('factory_status_Tanzania', '=', 0.0)\n"
     ]
    }
   ],
   "source": [
    "# print the results\n",
    "print (value(prob.objective))\n",
    "print ('\\n')\n",
    "\n",
    "print(prob)\n",
    "for v in prob.variables():\n",
    "    print(v.name, \"=\", v.varValue)"
   ]
  },
  {
   "cell_type": "code",
   "execution_count": 11,
   "metadata": {
    "collapsed": false
   },
   "outputs": [
    {
     "name": "stdout",
     "output_type": "stream",
     "text": [
      "factory_status_Ethiopia + factory_status_Nigeria + factory_status_Tanzania\n"
     ]
    }
   ],
   "source": [
    "#Factory ON or OFF Decision variable\n",
    "status=LpVariable.dicts(\"factory_status\",(Locations),cat=\"Binary\")\n",
    "print lpSum(status)"
   ]
  },
  {
   "cell_type": "code",
   "execution_count": null,
   "metadata": {
    "collapsed": true
   },
   "outputs": [],
   "source": []
  }
 ],
 "metadata": {
  "kernelspec": {
   "display_name": "Python [Root]",
   "language": "python",
   "name": "Python [Root]"
  },
  "language_info": {
   "codemirror_mode": {
    "name": "ipython",
    "version": 2
   },
   "file_extension": ".py",
   "mimetype": "text/x-python",
   "name": "python",
   "nbconvert_exporter": "python",
   "pygments_lexer": "ipython2",
   "version": "2.7.12"
  }
 },
 "nbformat": 4,
 "nbformat_minor": 0
}
