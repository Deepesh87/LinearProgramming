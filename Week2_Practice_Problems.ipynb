{
 "cells": [
  {
   "cell_type": "markdown",
   "metadata": {},
   "source": [
    "# L1PP1 handmade baskets"
   ]
  },
  {
   "cell_type": "code",
   "execution_count": 1,
   "metadata": {
    "collapsed": false
   },
   "outputs": [
    {
     "name": "stdout",
     "output_type": "stream",
     "text": [
      "0.872059732743\n"
     ]
    }
   ],
   "source": [
    "import numpy as np\n",
    "from sympy import *\n",
    "\n",
    "x=float(5)\n",
    "P=((x/73)**2-(x/95)+0.92)\n",
    "print P"
   ]
  },
  {
   "cell_type": "code",
   "execution_count": 2,
   "metadata": {
    "collapsed": false
   },
   "outputs": [
    {
     "name": "stdout",
     "output_type": "stream",
     "text": [
      "2*x/5329 - 1/95\n",
      "0.00037530493526\n"
     ]
    }
   ],
   "source": [
    "x=symbols('x')\n",
    "Pprime=diff(((x/73)**2-(x/95)+0.92),x)\n",
    "print Pprime\n",
    "Pprimeprime=diff(Pprime)\n",
    "print float(Pprimeprime)#since this is a constant"
   ]
  },
  {
   "cell_type": "code",
   "execution_count": 3,
   "metadata": {
    "collapsed": false
   },
   "outputs": [
    {
     "name": "stdout",
     "output_type": "stream",
     "text": [
      "5329/190\n"
     ]
    }
   ],
   "source": [
    "p_min_qty=(solve(Pprime,x)[0])\n",
    "print p_min_qty"
   ]
  },
  {
   "cell_type": "code",
   "execution_count": 4,
   "metadata": {
    "collapsed": false
   },
   "outputs": [
    {
     "name": "stdout",
     "output_type": "stream",
     "text": [
      "0.772382271468\n"
     ]
    }
   ],
   "source": [
    "x=float(p_min_qty)\n",
    "P=((x/73)**2-(x/95)+0.92)\n",
    "print P"
   ]
  },
  {
   "cell_type": "markdown",
   "metadata": {
    "collapsed": false
   },
   "source": [
    "# L1 PP2 - Maximizing Storage"
   ]
  },
  {
   "cell_type": "code",
   "execution_count": 7,
   "metadata": {
    "collapsed": false
   },
   "outputs": [
    {
     "name": "stdout",
     "output_type": "stream",
     "text": [
      "-2*x + 13.35\n"
     ]
    }
   ],
   "source": [
    "x=symbols('x')\n",
    "z=13.35*x-x**2\n",
    "zprime=diff(z,x)\n",
    "print zprime"
   ]
  },
  {
   "cell_type": "code",
   "execution_count": 11,
   "metadata": {
    "collapsed": false
   },
   "outputs": [
    {
     "name": "stdout",
     "output_type": "stream",
     "text": [
      "6.67500000000000\n",
      "6.67500000000000\n"
     ]
    }
   ],
   "source": [
    "max_x=solve(zprime,x)[0]\n",
    "max_y=13.35-max_x\n",
    "print max_x\n",
    "print max_y"
   ]
  },
  {
   "cell_type": "code",
   "execution_count": 13,
   "metadata": {
    "collapsed": false
   },
   "outputs": [
    {
     "name": "stdout",
     "output_type": "stream",
     "text": [
      "44.5556250000000\n"
     ]
    }
   ],
   "source": [
    "x=max_x\n",
    "z=13.35*x-x**2\n",
    "print z"
   ]
  },
  {
   "cell_type": "markdown",
   "metadata": {},
   "source": [
    "# Shadow price in Python"
   ]
  },
  {
   "cell_type": "code",
   "execution_count": null,
   "metadata": {
    "collapsed": true
   },
   "outputs": [],
   "source": [
    "for name, c in probX.constraints.items():\n",
    "    print(name, \":\", c, \"\\t\", c.pi)"
   ]
  },
  {
   "cell_type": "markdown",
   "metadata": {
    "collapsed": false
   },
   "source": [
    "# L1 PP3 - Marketing MagicPuppy"
   ]
  },
  {
   "cell_type": "code",
   "execution_count": 15,
   "metadata": {
    "collapsed": false
   },
   "outputs": [
    {
     "name": "stdout",
     "output_type": "stream",
     "text": [
      "-34*x/81 + 170/9\n"
     ]
    }
   ],
   "source": [
    "x=symbols('x')\n",
    "z=1700*(x/90-(x/90)**2)\n",
    "zprime=diff(z,x)\n",
    "print zprime"
   ]
  },
  {
   "cell_type": "code",
   "execution_count": 19,
   "metadata": {
    "collapsed": false
   },
   "outputs": [
    {
     "name": "stdout",
     "output_type": "stream",
     "text": [
      "45\n"
     ]
    }
   ],
   "source": [
    "x_max=solve(zprime,x)[0]\n",
    "print x_max"
   ]
  },
  {
   "cell_type": "code",
   "execution_count": 20,
   "metadata": {
    "collapsed": false
   },
   "outputs": [
    {
     "name": "stdout",
     "output_type": "stream",
     "text": [
      "425\n"
     ]
    }
   ],
   "source": [
    "x=x_max\n",
    "z=1700*(x/90-(x/90)**2)\n",
    "print z"
   ]
  },
  {
   "cell_type": "markdown",
   "metadata": {},
   "source": [
    "# L1 PP4 - CureBase Cancer Institute"
   ]
  },
  {
   "cell_type": "code",
   "execution_count": 22,
   "metadata": {
    "collapsed": false
   },
   "outputs": [
    {
     "name": "stdout",
     "output_type": "stream",
     "text": [
      "-9.61395193367844e-6*0.06**(x**2)*0.14**(-x)*x + 3.35928813819327e-6*0.06**(x**2)*0.14**(-x)\n"
     ]
    }
   ],
   "source": [
    "x=symbols('x')\n",
    "w=((0.06)**(x**2))*0.14**(-x)*0.15**7\n",
    "wprime=diff(w,x)\n",
    "print wprime"
   ]
  },
  {
   "cell_type": "code",
   "execution_count": 24,
   "metadata": {
    "collapsed": false
   },
   "outputs": [],
   "source": [
    "#MOST EFFECTIVE  odsage is that amount for which w is maximum. i.e wprime=0\n",
    "w_max=solve(wprime,x)[0]"
   ]
  },
  {
   "cell_type": "code",
   "execution_count": 28,
   "metadata": {
    "collapsed": false
   },
   "outputs": [
    {
     "name": "stdout",
     "output_type": "stream",
     "text": [
      "0.349418029273209\n"
     ]
    }
   ],
   "source": [
    "print w_max"
   ]
  },
  {
   "cell_type": "markdown",
   "metadata": {},
   "source": [
    "# L2 PP1 - Santa’s Molding Company"
   ]
  },
  {
   "cell_type": "code",
   "execution_count": 29,
   "metadata": {
    "collapsed": true
   },
   "outputs": [],
   "source": [
    "#graphical solution out of scope of python"
   ]
  },
  {
   "cell_type": "markdown",
   "metadata": {},
   "source": [
    "# L2 PP2 - Crazy Cereal"
   ]
  },
  {
   "cell_type": "code",
   "execution_count": 4,
   "metadata": {
    "collapsed": false
   },
   "outputs": [],
   "source": [
    "from pulp import *\n",
    "#inputs\n",
    "Cereal_Type=['Sugary','Regular']\n",
    "Sugar_Content=[0.66,0.21]\n",
    "Corn_Flake_Content=[0.34,0.79]\n",
    "Profits=[0.94,0.82]\n",
    "capacity_constraint=[(\"sugar\",2000),(\"corn_flakes\",4000)]\n",
    "#all inputs are written in same order--> Sugar first then Regular"
   ]
  },
  {
   "cell_type": "code",
   "execution_count": 58,
   "metadata": {
    "collapsed": false
   },
   "outputs": [
    {
     "data": {
      "text/plain": [
       "'Optimal'"
      ]
     },
     "execution_count": 58,
     "metadata": {},
     "output_type": "execute_result"
    }
   ],
   "source": [
    "# defines the problem\n",
    "prob = LpProblem(\"problem\", LpMaximize)\n",
    "\n",
    "#lets the following Dec_VAriables define the amount of \n",
    "#Sugary and Regular produced\n",
    "# declare your variables\n",
    "x=LpVariable.dicts(\"decvars\",Cereal_Type,lowBound=0,upBound=None)\n",
    "#decision variable is created for each index of Cereal_tyes\n",
    "\n",
    "# defines the objective function to maximize\n",
    "prob+= lpSum([Profits[i]*x.values()[i] for i in range(len(Cereal_Type))])\n",
    "# max(x1*0.94+x2*0.82)\n",
    "\n",
    "#using sigma notation\n",
    "Contents=[Sugar_Content,Corn_Flake_Content]\n",
    "CapCon=[2000,4000]\n",
    "\n",
    "for i in range(2):\n",
    "    prob +=lpSum([x.values()[j]*Contents[i][j] for j in range(2)])<=CapCon[i]\n",
    "        \n",
    "# solve the problem\n",
    "status = prob.solve()\n",
    "LpStatus[status]"
   ]
  },
  {
   "cell_type": "code",
   "execution_count": 59,
   "metadata": {
    "collapsed": false
   },
   "outputs": [
    {
     "name": "stdout",
     "output_type": "stream",
     "text": [
      "5117.333328\n",
      "\n",
      "\n",
      "1644.4444\n",
      "4355.5556\n",
      "\n",
      "\n",
      "problem:\n",
      "MAXIMIZE\n",
      "0.82*decvars_Regular + 0.94*decvars_Sugary + 0.0\n",
      "SUBJECT TO\n",
      "_C1: 0.21 decvars_Regular + 0.66 decvars_Sugary <= 2000\n",
      "\n",
      "_C2: 0.79 decvars_Regular + 0.34 decvars_Sugary <= 4000\n",
      "\n",
      "VARIABLES\n",
      "decvars_Regular Continuous\n",
      "decvars_Sugary Continuous\n",
      "\n"
     ]
    }
   ],
   "source": [
    "# print the results\n",
    "#print value(x.values())\n",
    "print (value(prob.objective))\n",
    "print ('\\n')\n",
    "for i in range(2):\n",
    "    print x.values()[i].varValue\n",
    "print ('\\n')\n",
    "print(prob)"
   ]
  },
  {
   "cell_type": "markdown",
   "metadata": {},
   "source": [
    "# L2 PP3 - Jim's Meat Packing Company"
   ]
  },
  {
   "cell_type": "code",
   "execution_count": 5,
   "metadata": {
    "collapsed": true
   },
   "outputs": [],
   "source": [
    "#inputs\n",
    "Lean_Meat=[0.09,0.60]\n",
    "Fat_Meat=[0.02,0.06]\n",
    "Cost=[9.3,8.4]\n",
    "Meat_type=['Chuck','Sirloin']"
   ]
  },
  {
   "cell_type": "code",
   "execution_count": 6,
   "metadata": {
    "collapsed": false
   },
   "outputs": [
    {
     "data": {
      "text/plain": [
       "'Optimal'"
      ]
     },
     "execution_count": 6,
     "metadata": {},
     "output_type": "execute_result"
    }
   ],
   "source": [
    "#define the problem\n",
    "prob2=LpProblem(\"JimsMeatCompany\",LpMinimize)\n",
    "\n",
    "#lets the following Dec_VAriables define the amount of \n",
    "#Chuck and Sirloin meat types\n",
    "# declare your variables\n",
    "x=LpVariable.dicts(\"decvars\",Meat_type,lowBound=0,upBound=None)\n",
    "#decision variable is created for each index of Meat_type\n",
    "\n",
    "# defines the objective function to minimize\n",
    "prob2+= lpSum([Cost[i]*x.values()[i] for i in range(len(Meat_type))])\n",
    "# min(x1*9.3+x2*8.4)\n",
    "\n",
    "#define the constraints\n",
    "prob2 +=lpSum(x.values())>=50\n",
    "prob2 +=lpSum([x.values()[i]*Lean_Meat[i] for i in range(2)])>=0.30*(lpSum(x.values()))\n",
    "prob2 +=lpSum([x.values()[i]*Fat_Meat[i]  for i in range(2)])<=0.05*(lpSum(x.values()))\n",
    "\n",
    "# solve the problem\n",
    "status = prob2.solve()\n",
    "LpStatus[status]"
   ]
  },
  {
   "cell_type": "code",
   "execution_count": 7,
   "metadata": {
    "collapsed": false
   },
   "outputs": [
    {
     "name": "stdout",
     "output_type": "stream",
     "text": [
      "431.25\n",
      "\n",
      "\n",
      "12.5\n",
      "37.5\n",
      "\n",
      "\n",
      "JimsMeatCompany:\n",
      "MINIMIZE\n",
      "9.3*decvars_Chuck + 8.4*decvars_Sirloin + 0.0\n",
      "SUBJECT TO\n",
      "_C1: decvars_Chuck + decvars_Sirloin >= 50\n",
      "\n",
      "_C2: - 0.21 decvars_Chuck + 0.3 decvars_Sirloin >= 0\n",
      "\n",
      "_C3: - 0.03 decvars_Chuck + 0.01 decvars_Sirloin <= 0\n",
      "\n",
      "VARIABLES\n",
      "decvars_Chuck Continuous\n",
      "decvars_Sirloin Continuous\n",
      "\n"
     ]
    }
   ],
   "source": [
    "# print the results\n",
    "#print value(x.values())\n",
    "print (value(prob2.objective))\n",
    "print ('\\n')\n",
    "for i in range(2):\n",
    "    print x.values()[i].varValue\n",
    "print ('\\n')\n",
    "print(prob2)"
   ]
  },
  {
   "cell_type": "markdown",
   "metadata": {},
   "source": [
    "# L2 PP4 - John's Shipping Company"
   ]
  },
  {
   "cell_type": "code",
   "execution_count": 86,
   "metadata": {
    "collapsed": true
   },
   "outputs": [],
   "source": [
    "#inputs\n",
    "Fuel_Type=['O','D']\n",
    "H_Concentration=[45,90]\n",
    "O_Concentration=[15,6]\n",
    "Cost=[1.05,1.34]"
   ]
  },
  {
   "cell_type": "code",
   "execution_count": 96,
   "metadata": {
    "collapsed": false
   },
   "outputs": [
    {
     "data": {
      "text/plain": [
       "'Optimal'"
      ]
     },
     "execution_count": 96,
     "metadata": {},
     "output_type": "execute_result"
    }
   ],
   "source": [
    "#define the problem\n",
    "prob3=LpProblem(\"John's Shipping company\",LpMinimize)\n",
    "\n",
    "#define the decision variables i.e. Units of O and D type fuel he shud buy\n",
    "x=LpVariable.dicts(\"dec_var\",Fuel_Type,lowBound=0,upBound=None)\n",
    "\n",
    "#define the objective function\n",
    "prob3 +=lpSum([x.values()[i]*Cost[i] for i in range(2)])\n",
    "\n",
    "#define the constraints\n",
    "prob3 +=lpSum(x.values())>=10000#MIN production constraint\n",
    "prob3 +=lpSum([x.values()[i]*H_Concentration[i] for i in range(2)])>=45*(lpSum(x.values()))\n",
    "#hydrogen Constraint\n",
    "prob3 +=lpSum([x.values()[i]*O_Concentration[i] for i in range(2)])<=9*(lpSum(x.values()))\n",
    "#Oxygen Constraint\n",
    "\n",
    "# solve the problem\n",
    "status = prob3.solve()\n",
    "LpStatus[status]"
   ]
  },
  {
   "cell_type": "code",
   "execution_count": 97,
   "metadata": {
    "collapsed": false
   },
   "outputs": [
    {
     "name": "stdout",
     "output_type": "stream",
     "text": [
      "12433.333343\n",
      "\n",
      "\n",
      "3333.3333\n",
      "6666.6667\n",
      "\n",
      "\n",
      "John's Shipping company:\n",
      "MINIMIZE\n",
      "1.05*dec_var_D + 1.34*dec_var_O + 0.0\n",
      "SUBJECT TO\n",
      "_C1: dec_var_D + dec_var_O >= 10000\n",
      "\n",
      "_C2: 0 dec_var_D + 45 dec_var_O >= 0\n",
      "\n",
      "_C3: 6 dec_var_D - 3 dec_var_O <= 0\n",
      "\n",
      "VARIABLES\n",
      "dec_var_D Continuous\n",
      "dec_var_O Continuous\n",
      "\n"
     ]
    }
   ],
   "source": [
    "# print the results\n",
    "#print value(x.values())\n",
    "print (value(prob3.objective))\n",
    "print ('\\n')\n",
    "for i in range(2):\n",
    "    print x.values()[i].varValue\n",
    "print ('\\n')\n",
    "print(prob3)"
   ]
  },
  {
   "cell_type": "markdown",
   "metadata": {},
   "source": [
    "# L2 PP5 - A New Office Plant"
   ]
  },
  {
   "cell_type": "code",
   "execution_count": 98,
   "metadata": {
    "collapsed": true
   },
   "outputs": [],
   "source": [
    "#inputs\n",
    "Products=['P1','P2','P3']\n",
    "N_content=[360,380,310]\n",
    "P_content=[30,20,20]\n",
    "Price=[1.59,2.19,2.99]"
   ]
  },
  {
   "cell_type": "code",
   "execution_count": 100,
   "metadata": {
    "collapsed": false
   },
   "outputs": [
    {
     "data": {
      "text/plain": [
       "'Optimal'"
      ]
     },
     "execution_count": 100,
     "metadata": {},
     "output_type": "execute_result"
    }
   ],
   "source": [
    "#define the problem\n",
    "prob4=LpProblem(\"New Office Plant\",LpMinimize)\n",
    "\n",
    "#define the decision variables\n",
    "x=LpVariable.dicts(\"dec_vars\",Products,lowBound=0,upBound=None)\n",
    "\n",
    "#define the objective function\n",
    "prob4 +=lpSum([x.values()[i]*Price[i] for i in range(len(Products))])\n",
    "\n",
    "#define the constraints\n",
    "prob4 +=lpSum([x.values()[i]*N_content[i] for i in range(len(N_content))]) >=1800\n",
    "prob4 +=lpSum([x.values()[i]*N_content[i] for i in range(len(N_content))]) <=2200\n",
    "prob4 +=lpSum([x.values()[i]*P_content[i] for i in range(len(P_content))]) ==100\n",
    "\n",
    "# solve the problem\n",
    "status = prob4.solve()\n",
    "LpStatus[status]"
   ]
  },
  {
   "cell_type": "code",
   "execution_count": 102,
   "metadata": {
    "collapsed": false
   },
   "outputs": [
    {
     "name": "stdout",
     "output_type": "stream",
     "text": [
      "10.1428571802\n",
      "\n",
      "\n",
      "0.47619048\n",
      "4.2857143\n",
      "0.0\n",
      "\n",
      "\n",
      "New Office Plant:\n",
      "MINIMIZE\n",
      "2.99*dec_vars_P1 + 1.59*dec_vars_P2 + 2.19*dec_vars_P3 + 0.0\n",
      "SUBJECT TO\n",
      "_C1: 310 dec_vars_P1 + 360 dec_vars_P2 + 380 dec_vars_P3 >= 1800\n",
      "\n",
      "_C2: 310 dec_vars_P1 + 360 dec_vars_P2 + 380 dec_vars_P3 <= 2200\n",
      "\n",
      "_C3: 20 dec_vars_P1 + 30 dec_vars_P2 + 20 dec_vars_P3 = 100\n",
      "\n",
      "VARIABLES\n",
      "dec_vars_P1 Continuous\n",
      "dec_vars_P2 Continuous\n",
      "dec_vars_P3 Continuous\n",
      "\n"
     ]
    }
   ],
   "source": [
    "# print the results\n",
    "#print value(x.values())\n",
    "print (value(prob4.objective))\n",
    "print ('\\n')\n",
    "for i in range(3):\n",
    "    print x.values()[i].varValue\n",
    "print ('\\n')\n",
    "print(prob4)"
   ]
  },
  {
   "cell_type": "code",
   "execution_count": 107,
   "metadata": {
    "collapsed": false
   },
   "outputs": [
    {
     "name": "stdout",
     "output_type": "stream",
     "text": [
      "1800.0000068\n"
     ]
    }
   ],
   "source": [
    "N_Content_provided=np.sum([x.values()[i].varValue*N_content[i] for i in range(3)])\n",
    "print N_Content_provided"
   ]
  },
  {
   "cell_type": "markdown",
   "metadata": {},
   "source": [
    "# L2 PP6 - Rochak's Ink Company"
   ]
  },
  {
   "cell_type": "code",
   "execution_count": 109,
   "metadata": {
    "collapsed": false
   },
   "outputs": [],
   "source": [
    "#inputs\n",
    "color=['Cyan','Magenta','Yellow']\n",
    "Stage_1_time=[0.44,0.51,0.50]\n",
    "Stage_2_time=[0.55,0.6,0.59]\n",
    "Demand=[84000,72000,93000]\n",
    "Profit=[0.6,0.72,0.62]"
   ]
  },
  {
   "cell_type": "code",
   "execution_count": 120,
   "metadata": {
    "collapsed": false
   },
   "outputs": [
    {
     "data": {
      "text/plain": [
       "'Optimal'"
      ]
     },
     "execution_count": 120,
     "metadata": {},
     "output_type": "execute_result"
    }
   ],
   "source": [
    "#define the problem\n",
    "prob5=LpProblem(\"Indian Ink Compnay\",LpMaximize)\n",
    "\n",
    "#define the decision variables i.e. the amount of each colr ink he will make\n",
    "x=LpVariable.dicts(\"dec_var\",color,lowBound=0,upBound=None)\n",
    "\n",
    "#define the objective function\n",
    "prob5 +=lpSum([x.values()[i]*Profit[i] for i in range(len(color))])\n",
    "\n",
    "#define the constraints\n",
    "#demand constraints\n",
    "for i in range(len(color)):\n",
    "    prob5 +=lpSum(x.values()[i])<=Demand[i]\n",
    "    \n",
    "#Stage 1 cnstraint\n",
    "prob5 +=lpSum([x.values()[i]*Stage_1_time[i]for i in range(len(color))])<=17*60*60\n",
    "\n",
    "#Stage 2 constraint\n",
    "prob5 +=lpSum([x.values()[i]*Stage_2_time[i] for i in range(len(color))])<=23*60*60\n",
    "    \n",
    "\n",
    "# solve the problem\n",
    "status = prob5.solve()\n",
    "LpStatus[status]"
   ]
  },
  {
   "cell_type": "code",
   "execution_count": 121,
   "metadata": {
    "collapsed": false
   },
   "outputs": [
    {
     "name": "stdout",
     "output_type": "stream",
     "text": [
      "85221.8184\n",
      "\n",
      "\n",
      "55636.364\n",
      "72000.0\n",
      "0.0\n",
      "\n",
      "\n",
      "Indian Ink Compnay:\n",
      "MAXIMIZE\n",
      "0.6*dec_var_Cyan + 0.72*dec_var_Magenta + 0.62*dec_var_Yellow + 0.0\n",
      "SUBJECT TO\n",
      "_C1: dec_var_Cyan <= 84000\n",
      "\n",
      "_C2: dec_var_Magenta <= 72000\n",
      "\n",
      "_C3: dec_var_Yellow <= 93000\n",
      "\n",
      "_C4: 0.44 dec_var_Cyan + 0.51 dec_var_Magenta + 0.5 dec_var_Yellow <= 61200\n",
      "\n",
      "_C5: 0.55 dec_var_Cyan + 0.6 dec_var_Magenta + 0.59 dec_var_Yellow <= 82800\n",
      "\n",
      "VARIABLES\n",
      "dec_var_Cyan Continuous\n",
      "dec_var_Magenta Continuous\n",
      "dec_var_Yellow Continuous\n",
      "\n"
     ]
    }
   ],
   "source": [
    "# print the results\n",
    "#print value(x.values())\n",
    "print (value(prob5.objective))\n",
    "print ('\\n')\n",
    "for i in range(3):\n",
    "    print x.values()[i].varValue\n",
    "print ('\\n')\n",
    "print(prob5)"
   ]
  },
  {
   "cell_type": "markdown",
   "metadata": {},
   "source": [
    "# L2 PP7 - Pasteur Cheese Factory"
   ]
  },
  {
   "cell_type": "code",
   "execution_count": 123,
   "metadata": {
    "collapsed": false
   },
   "outputs": [],
   "source": [
    "#inputs\n",
    "products=['original','cheddar','wasabi']\n",
    "price=[20,15,17]\n",
    "X_Ray_time=[8.6,2.2,5.1]\n",
    "checkweigher_time=[7,6.8,9.8]\n",
    "costs=[0.11,0.22]"
   ]
  },
  {
   "cell_type": "code",
   "execution_count": 128,
   "metadata": {
    "collapsed": false
   },
   "outputs": [
    {
     "name": "stdout",
     "output_type": "stream",
     "text": [
      "[2.4859999999999998, 1.738, 2.717]\n"
     ]
    }
   ],
   "source": [
    "#total processing cost in $ per unit\n",
    "processing_cost=[]\n",
    "for i in range(len(products)):\n",
    "    processing_cost.append(X_Ray_time[i]*costs[0]+checkweigher_time[i]*costs[1])\n",
    "    \n",
    "print processing_cost #this gives processing time per unit of each cheese type"
   ]
  },
  {
   "cell_type": "code",
   "execution_count": 129,
   "metadata": {
    "collapsed": false
   },
   "outputs": [
    {
     "name": "stdout",
     "output_type": "stream",
     "text": [
      "[17.514, 13.262, 14.283]\n"
     ]
    }
   ],
   "source": [
    "#profits per unit\n",
    "#= SP- cost per unit\n",
    "profits=[]\n",
    "for i in range(len(products)):\n",
    "    profits.append(price[i]-processing_cost[i])\n",
    "print profits"
   ]
  },
  {
   "cell_type": "code",
   "execution_count": 130,
   "metadata": {
    "collapsed": false
   },
   "outputs": [
    {
     "data": {
      "text/plain": [
       "'Optimal'"
      ]
     },
     "execution_count": 130,
     "metadata": {},
     "output_type": "execute_result"
    }
   ],
   "source": [
    "#define the problme\n",
    "prob6=LpProblem(\"Cheese making\",LpMaximize)\n",
    "\n",
    "#define the decision variables\n",
    "x=LpVariable.dicts(\"dec_vars\",products,lowBound=0)\n",
    "\n",
    "#define the objective\n",
    "prob6 +=lpSum(x.values()[i]*profits[i] for i in range(len(price)))\n",
    "\n",
    "#define the constraints\n",
    "#time constraints of \n",
    "#X ray\n",
    "prob6 +=lpSum(X_Ray_time[i]*x.values()[i] for i in range(len(price)))<=8*60\n",
    "#Weighing machine\n",
    "prob6 +=lpSum(checkweigher_time[i]*x.values()[i] for i in range(len(price)))<=9*60\n",
    "\n",
    "# solve the problem\n",
    "status = prob6.solve()\n",
    "LpStatus[status]"
   ]
  },
  {
   "cell_type": "code",
   "execution_count": 131,
   "metadata": {
    "collapsed": false
   },
   "outputs": [
    {
     "name": "stdout",
     "output_type": "stream",
     "text": [
      "1239.26350998\n",
      "\n",
      "\n",
      "48.189415\n",
      "29.805014\n",
      "0.0\n",
      "\n",
      "\n",
      "Cheese making:\n",
      "MAXIMIZE\n",
      "17.514*dec_vars_cheddar + 13.262*dec_vars_original + 14.283*dec_vars_wasabi + 0.0\n",
      "SUBJECT TO\n",
      "_C1: 8.6 dec_vars_cheddar + 2.2 dec_vars_original + 5.1 dec_vars_wasabi <= 480\n",
      "\n",
      "_C2: 7 dec_vars_cheddar + 6.8 dec_vars_original + 9.8 dec_vars_wasabi <= 540\n",
      "\n",
      "VARIABLES\n",
      "dec_vars_cheddar Continuous\n",
      "dec_vars_original Continuous\n",
      "dec_vars_wasabi Continuous\n",
      "\n"
     ]
    }
   ],
   "source": [
    "# print the results\n",
    "#print value(x.values())\n",
    "print (value(prob6.objective))\n",
    "print ('\\n')\n",
    "for i in range(3):\n",
    "    print x.values()[i].varValue\n",
    "print ('\\n')\n",
    "print(prob6)"
   ]
  },
  {
   "cell_type": "code",
   "execution_count": null,
   "metadata": {
    "collapsed": true
   },
   "outputs": [],
   "source": [
    "#Please share your comments at connectdeepeshsingh@gmail.com"
   ]
  }
 ],
 "metadata": {
  "anaconda-cloud": {},
  "kernelspec": {
   "display_name": "Python [Root]",
   "language": "python",
   "name": "Python [Root]"
  },
  "language_info": {
   "codemirror_mode": {
    "name": "ipython",
    "version": 2
   },
   "file_extension": ".py",
   "mimetype": "text/x-python",
   "name": "python",
   "nbconvert_exporter": "python",
   "pygments_lexer": "ipython2",
   "version": "2.7.12"
  }
 },
 "nbformat": 4,
 "nbformat_minor": 0
}
