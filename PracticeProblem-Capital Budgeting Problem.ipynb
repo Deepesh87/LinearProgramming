{
 "cells": [
  {
   "cell_type": "code",
   "execution_count": 46,
   "metadata": {
    "collapsed": false
   },
   "outputs": [],
   "source": [
    "import pandas as pd\n",
    "import numpy as np\n",
    "from pulp import *"
   ]
  },
  {
   "cell_type": "code",
   "execution_count": 66,
   "metadata": {
    "collapsed": true
   },
   "outputs": [],
   "source": [
    "Projects=['1','2','3','4','5']\n",
    "Year=['Y1','Y2','Y3']\n",
    "Project_Returns=[30,20,25,23,27]\n",
    "first_pj_cost=[12,8,4]\n",
    "sec_pj_cost=[7,5,1]\n",
    "third_pj_cost=[9,6,3]\n",
    "forth_pj_cost=[2,4,8]\n",
    "fifth_pj_cost=[4,6,10]\n",
    "funds_constraint_yearwise=[25,20,20]\n",
    "#you take one Project for all 3 years..."
   ]
  },
  {
   "cell_type": "code",
   "execution_count": 82,
   "metadata": {
    "collapsed": false
   },
   "outputs": [
    {
     "name": "stdout",
     "output_type": "stream",
     "text": [
      "{'1': {'Y1': 12, 'Y3': 4, 'Y2': 8}, '3': {'Y1': 9, 'Y3': 3, 'Y2': 6}, '2': {'Y1': 7, 'Y3': 1, 'Y2': 5}, '5': {'Y1': 4, 'Y3': 10, 'Y2': 6}, '4': {'Y1': 2, 'Y3': 8, 'Y2': 4}}\n",
      "{'1': 30, '3': 25, '2': 20, '5': 27, '4': 23}\n",
      "{'Y1': 25, 'Y3': 20, 'Y2': 20}\n"
     ]
    }
   ],
   "source": [
    "#form variables\n",
    "all_costs=[first_pj,sec_pj,third_pj,forth_pj,fifth_pj]\n",
    "\n",
    "project_yearwise_costs=makeDict([Projects,Year],all_costs)\n",
    "print project_yearwise_costs\n",
    "\n",
    "pjwise_yearly_returns=dict(zip(Projects,Project_Returns))\n",
    "print pjwise_yearly_returns\n",
    "\n",
    "funds_year_constraint=dict(zip(Year,funds_constraint_yearwise))\n",
    "print funds_year_constraint\n",
    "\n",
    "#print funds_year_constraint"
   ]
  },
  {
   "cell_type": "code",
   "execution_count": 83,
   "metadata": {
    "collapsed": false
   },
   "outputs": [
    {
     "data": {
      "text/plain": [
       "'Optimal'"
      ]
     },
     "execution_count": 83,
     "metadata": {},
     "output_type": "execute_result"
    }
   ],
   "source": [
    "#define the problme\n",
    "prob=LpProblem(\"CapitalBudgetingProblem\",LpMaximize)\n",
    "\n",
    "#define the decision variables\n",
    "x=LpVariable.dicts(\"dec_Var\",Projects,cat=LpBinary)\n",
    "\n",
    "#define the objective function\n",
    "prob +=lpSum(x[i]*pjwise_yearly_returns[i] for i in Projects)\n",
    "\n",
    "\n",
    "#define the constraints\n",
    "#budget constraint\n",
    "for i in Year:\n",
    "    prob +=lpSum(x[j]*project_yearwise_costs[j][i] for j in Projects)<=funds_year_constraint[i]\n",
    "    \n",
    "\n",
    "# solve the problem\n",
    "status = prob.solve()\n",
    "LpStatus[status]     "
   ]
  },
  {
   "cell_type": "code",
   "execution_count": 84,
   "metadata": {
    "collapsed": false
   },
   "outputs": [
    {
     "name": "stdout",
     "output_type": "stream",
     "text": [
      "82.0\n",
      "\n",
      "\n",
      "CapitalBudgetingProblem:\n",
      "MAXIMIZE\n",
      "30*dec_Var_1 + 20*dec_Var_2 + 25*dec_Var_3 + 23*dec_Var_4 + 27*dec_Var_5 + 0\n",
      "SUBJECT TO\n",
      "_C1: 12 dec_Var_1 + 7 dec_Var_2 + 9 dec_Var_3 + 2 dec_Var_4 + 4 dec_Var_5\n",
      " <= 25\n",
      "\n",
      "_C2: 8 dec_Var_1 + 5 dec_Var_2 + 6 dec_Var_3 + 4 dec_Var_4 + 6 dec_Var_5 <= 20\n",
      "\n",
      "_C3: 4 dec_Var_1 + dec_Var_2 + 3 dec_Var_3 + 8 dec_Var_4 + 10 dec_Var_5 <= 20\n",
      "\n",
      "VARIABLES\n",
      "0 <= dec_Var_1 <= 1 Integer\n",
      "0 <= dec_Var_2 <= 1 Integer\n",
      "0 <= dec_Var_3 <= 1 Integer\n",
      "0 <= dec_Var_4 <= 1 Integer\n",
      "0 <= dec_Var_5 <= 1 Integer\n",
      "\n",
      "('dec_Var_1', '=', 1.0)\n",
      "('dec_Var_2', '=', 0.0)\n",
      "('dec_Var_3', '=', 1.0)\n",
      "('dec_Var_4', '=', 0.0)\n",
      "('dec_Var_5', '=', 1.0)\n"
     ]
    }
   ],
   "source": [
    "# print the results\n",
    "print (value(prob.objective))\n",
    "print ('\\n')\n",
    "\n",
    "print(prob)\n",
    "for v in prob.variables():\n",
    "    print(v.name, \"=\", v.varValue)"
   ]
  }
 ],
 "metadata": {
  "kernelspec": {
   "display_name": "Python [Root]",
   "language": "python",
   "name": "Python [Root]"
  },
  "language_info": {
   "codemirror_mode": {
    "name": "ipython",
    "version": 2
   },
   "file_extension": ".py",
   "mimetype": "text/x-python",
   "name": "python",
   "nbconvert_exporter": "python",
   "pygments_lexer": "ipython2",
   "version": "2.7.12"
  }
 },
 "nbformat": 4,
 "nbformat_minor": 0
}
